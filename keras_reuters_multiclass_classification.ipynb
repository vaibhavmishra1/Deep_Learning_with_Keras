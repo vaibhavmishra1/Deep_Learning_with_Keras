{
  "nbformat": 4,
  "nbformat_minor": 0,
  "metadata": {
    "colab": {
      "name": "keras_reuters_multiclass_classification.ipynb",
      "version": "0.3.2",
      "provenance": [],
      "include_colab_link": true
    },
    "kernelspec": {
      "name": "python3",
      "display_name": "Python 3"
    }
  },
  "cells": [
    {
      "cell_type": "markdown",
      "metadata": {
        "id": "view-in-github",
        "colab_type": "text"
      },
      "source": [
        "<a href=\"https://colab.research.google.com/github/vaibhavmishra1/Deep_Learning_with_Keras/blob/master/keras_reuters_multiclass_classification.ipynb\" target=\"_parent\"><img src=\"https://colab.research.google.com/assets/colab-badge.svg\" alt=\"Open In Colab\"/></a>"
      ]
    },
    {
      "cell_type": "code",
      "metadata": {
        "id": "TWiMNgmp3J0D",
        "colab_type": "code",
        "colab": {
          "base_uri": "https://localhost:8080/",
          "height": 72
        },
        "outputId": "e80b2f5e-ae42-470f-8d69-fec934804be7"
      },
      "source": [
        "from keras.datasets import reuters\n",
        "(train_data,train_labels),(test_data,test_labels)=reuters.load_data(num_words=10000)"
      ],
      "execution_count": 1,
      "outputs": [
        {
          "output_type": "stream",
          "text": [
            "Using TensorFlow backend.\n"
          ],
          "name": "stderr"
        },
        {
          "output_type": "stream",
          "text": [
            "Downloading data from https://s3.amazonaws.com/text-datasets/reuters.npz\n",
            "2113536/2110848 [==============================] - 0s 0us/step\n"
          ],
          "name": "stdout"
        }
      ]
    },
    {
      "cell_type": "code",
      "metadata": {
        "id": "JRqw45GD3fcC",
        "colab_type": "code",
        "colab": {
          "base_uri": "https://localhost:8080/",
          "height": 128
        },
        "outputId": "054bd26c-4558-4e9f-d2e9-9de595b21a50"
      },
      "source": [
        "import numpy as np\n",
        "print(len(train_data))\n",
        "print(len(test_data))\n",
        "print(train_data.shape)\n",
        "print(test_data.shape)\n",
        "print(train_data[0])"
      ],
      "execution_count": 4,
      "outputs": [
        {
          "output_type": "stream",
          "text": [
            "8982\n",
            "2246\n",
            "(8982,)\n",
            "(2246,)\n",
            "[1, 2, 2, 8, 43, 10, 447, 5, 25, 207, 270, 5, 3095, 111, 16, 369, 186, 90, 67, 7, 89, 5, 19, 102, 6, 19, 124, 15, 90, 67, 84, 22, 482, 26, 7, 48, 4, 49, 8, 864, 39, 209, 154, 6, 151, 6, 83, 11, 15, 22, 155, 11, 15, 7, 48, 9, 4579, 1005, 504, 6, 258, 6, 272, 11, 15, 22, 134, 44, 11, 15, 16, 8, 197, 1245, 90, 67, 52, 29, 209, 30, 32, 132, 6, 109, 15, 17, 12]\n"
          ],
          "name": "stdout"
        }
      ]
    },
    {
      "cell_type": "code",
      "metadata": {
        "id": "THGlygrw3qdj",
        "colab_type": "code",
        "colab": {}
      },
      "source": [
        "def vectorize_data(array,dimensions=10000):\n",
        "  results=np.zeros((len(array),dimensions))\n",
        "  for i,data in enumerate(array):\n",
        "    results[i,data]=1\n",
        "  return results"
      ],
      "execution_count": 0,
      "outputs": []
    },
    {
      "cell_type": "code",
      "metadata": {
        "id": "6OHj5RgK4xAO",
        "colab_type": "code",
        "colab": {}
      },
      "source": [
        "x_train=vectorize_data(train_data)\n",
        "x_test=vectorize_data(test_data)"
      ],
      "execution_count": 0,
      "outputs": []
    },
    {
      "cell_type": "code",
      "metadata": {
        "id": "VU1go-fc44QA",
        "colab_type": "code",
        "colab": {}
      },
      "source": [
        "def vectorize_label(label,dimensions=46):\n",
        "  output=np.zeros((len(label),dimensions))\n",
        "  for i,data in enumerate(label):\n",
        "    output[i,label]=1\n",
        "  return output"
      ],
      "execution_count": 0,
      "outputs": []
    },
    {
      "cell_type": "code",
      "metadata": {
        "id": "YzG87ugQ53OB",
        "colab_type": "code",
        "colab": {}
      },
      "source": [
        "one_hot_train_labels=vectorize_label(train_labels)\n",
        "one_hot_test_labels=vectorize_label(test_labels)"
      ],
      "execution_count": 0,
      "outputs": []
    },
    {
      "cell_type": "code",
      "metadata": {
        "id": "zgBMftfN6HmC",
        "colab_type": "code",
        "colab": {}
      },
      "source": [
        "from keras.utils.np_utils import to_categorical\n",
        "one_hot_train_labels = to_categorical(train_labels)\n",
        "one_hot_test_labels = to_categorical(test_labels)"
      ],
      "execution_count": 0,
      "outputs": []
    },
    {
      "cell_type": "code",
      "metadata": {
        "id": "-nIn2jRb6bJZ",
        "colab_type": "code",
        "colab": {
          "base_uri": "https://localhost:8080/",
          "height": 110
        },
        "outputId": "4e5dac18-6797-4550-e493-1e23d572da62"
      },
      "source": [
        "\n",
        "from keras import layers\n",
        "from keras import models\n",
        "model=models.Sequential()\n",
        "model.add(layers.Dense(64,activation='relu',input_shape=(10000,)))\n",
        "model.add(layers.Dense(64, activation='relu'))\n",
        "model.add(layers.Dense(46, activation='softmax'))\n"
      ],
      "execution_count": 18,
      "outputs": [
        {
          "output_type": "stream",
          "text": [
            "W0728 09:33:46.085995 139793956050816 deprecation_wrapper.py:119] From /usr/local/lib/python3.6/dist-packages/keras/backend/tensorflow_backend.py:517: The name tf.placeholder is deprecated. Please use tf.compat.v1.placeholder instead.\n",
            "\n",
            "W0728 09:33:46.095151 139793956050816 deprecation_wrapper.py:119] From /usr/local/lib/python3.6/dist-packages/keras/backend/tensorflow_backend.py:4138: The name tf.random_uniform is deprecated. Please use tf.random.uniform instead.\n",
            "\n"
          ],
          "name": "stderr"
        }
      ]
    },
    {
      "cell_type": "code",
      "metadata": {
        "id": "P287qStS7TVr",
        "colab_type": "code",
        "colab": {
          "base_uri": "https://localhost:8080/",
          "height": 110
        },
        "outputId": "191a0907-be93-440e-8003-b8bfae4f5d25"
      },
      "source": [
        "model.compile(loss='categorical_crossentropy',optimizer='rmsprop',metrics=['accuracy'])"
      ],
      "execution_count": 19,
      "outputs": [
        {
          "output_type": "stream",
          "text": [
            "W0728 09:34:35.359412 139793956050816 deprecation_wrapper.py:119] From /usr/local/lib/python3.6/dist-packages/keras/optimizers.py:790: The name tf.train.Optimizer is deprecated. Please use tf.compat.v1.train.Optimizer instead.\n",
            "\n",
            "W0728 09:34:35.408481 139793956050816 deprecation_wrapper.py:119] From /usr/local/lib/python3.6/dist-packages/keras/backend/tensorflow_backend.py:3295: The name tf.log is deprecated. Please use tf.math.log instead.\n",
            "\n"
          ],
          "name": "stderr"
        }
      ]
    },
    {
      "cell_type": "code",
      "metadata": {
        "id": "J2etlxzs7nK1",
        "colab_type": "code",
        "colab": {
          "base_uri": "https://localhost:8080/",
          "height": 217
        },
        "outputId": "4fdcb418-05a2-4df4-89e6-959d501eb0a8"
      },
      "source": [
        "x_val = x_train[:1000]\n",
        "partial_x_train = x_train[1000:]\n",
        "y_val = one_hot_train_labels[:1000]\n",
        "partial_y_train = one_hot_train_labels[1000:]\n",
        "\n",
        "\n",
        "history=model.fit(partial_x_train,partial_y_train,epochs=5,batch_size=512,validation_data=(x_val, y_val))"
      ],
      "execution_count": 29,
      "outputs": [
        {
          "output_type": "stream",
          "text": [
            "Train on 7982 samples, validate on 1000 samples\n",
            "Epoch 1/5\n",
            "7982/7982 [==============================] - 1s 142us/step - loss: 0.0872 - acc: 0.9579 - val_loss: 1.2974 - val_acc: 0.7850\n",
            "Epoch 2/5\n",
            "7982/7982 [==============================] - 1s 142us/step - loss: 0.0840 - acc: 0.9595 - val_loss: 1.2629 - val_acc: 0.7930\n",
            "Epoch 3/5\n",
            "7982/7982 [==============================] - 1s 146us/step - loss: 0.0839 - acc: 0.9589 - val_loss: 1.3209 - val_acc: 0.7950\n",
            "Epoch 4/5\n",
            "7982/7982 [==============================] - 1s 143us/step - loss: 0.0835 - acc: 0.9592 - val_loss: 1.2960 - val_acc: 0.7830\n",
            "Epoch 5/5\n",
            "7982/7982 [==============================] - 1s 142us/step - loss: 0.0841 - acc: 0.9595 - val_loss: 1.2670 - val_acc: 0.7940\n"
          ],
          "name": "stdout"
        }
      ]
    },
    {
      "cell_type": "code",
      "metadata": {
        "id": "zYnVV1Da7_qk",
        "colab_type": "code",
        "colab": {
          "base_uri": "https://localhost:8080/",
          "height": 35
        },
        "outputId": "937d1c06-12b9-47a7-a516-48afd4858e06"
      },
      "source": [
        "results = model.evaluate(x_test, one_hot_test_labels)"
      ],
      "execution_count": 30,
      "outputs": [
        {
          "output_type": "stream",
          "text": [
            "2246/2246 [==============================] - 0s 101us/step\n"
          ],
          "name": "stdout"
        }
      ]
    },
    {
      "cell_type": "code",
      "metadata": {
        "id": "NEWx7HKk8IXe",
        "colab_type": "code",
        "colab": {
          "base_uri": "https://localhost:8080/",
          "height": 35
        },
        "outputId": "e8f6ad14-df01-4291-8347-423ecd5aba62"
      },
      "source": [
        "print(results)"
      ],
      "execution_count": 31,
      "outputs": [
        {
          "output_type": "stream",
          "text": [
            "[1.492732230829322, 0.7782724844698171]\n"
          ],
          "name": "stdout"
        }
      ]
    },
    {
      "cell_type": "code",
      "metadata": {
        "id": "S5CVAboq8Kvf",
        "colab_type": "code",
        "colab": {}
      },
      "source": [
        "predictions = model.predict(x_test)"
      ],
      "execution_count": 0,
      "outputs": []
    },
    {
      "cell_type": "code",
      "metadata": {
        "id": "S158YfqL8rz2",
        "colab_type": "code",
        "colab": {
          "base_uri": "https://localhost:8080/",
          "height": 272
        },
        "outputId": "1e7e3c5c-8224-4c02-c8ca-ea9be0a27e05"
      },
      "source": [
        "print(predictions.shape)\n",
        "print(predictions[0])\n",
        "np.argmax(predictions[0])"
      ],
      "execution_count": 35,
      "outputs": [
        {
          "output_type": "stream",
          "text": [
            "(2246, 46)\n",
            "[2.97875113e-06 1.06858738e-06 5.50514245e-10 8.77301991e-01\n",
            " 1.03339888e-01 7.39112070e-12 4.13900061e-13 1.37050313e-06\n",
            " 6.58480509e-04 2.23462916e-06 1.26386783e-06 3.09802010e-04\n",
            " 2.57087631e-05 2.68042356e-07 2.21995478e-07 9.01453842e-11\n",
            " 1.11558606e-04 2.03956319e-07 5.04410082e-06 8.12822604e-04\n",
            " 1.65668577e-02 7.98854220e-04 8.97856793e-08 6.42583018e-08\n",
            " 7.60225394e-09 7.20620292e-08 1.58126499e-14 3.09451598e-09\n",
            " 7.78720278e-06 1.12728538e-09 2.81477987e-05 1.45554770e-12\n",
            " 5.66756944e-06 1.06825312e-10 7.34287198e-07 1.65876610e-08\n",
            " 1.64061948e-05 1.18388210e-09 3.00541956e-08 2.66594667e-12\n",
            " 4.68183970e-07 2.38799203e-10 1.91784685e-10 4.42682335e-10\n",
            " 2.07148968e-13 4.87707661e-12]\n"
          ],
          "name": "stdout"
        },
        {
          "output_type": "execute_result",
          "data": {
            "text/plain": [
              "3"
            ]
          },
          "metadata": {
            "tags": []
          },
          "execution_count": 35
        }
      ]
    },
    {
      "cell_type": "code",
      "metadata": {
        "id": "4RxWC0-I8vuz",
        "colab_type": "code",
        "colab": {
          "base_uri": "https://localhost:8080/",
          "height": 235
        },
        "outputId": "642af634-a163-4160-885d-0568e036297b"
      },
      "source": [
        ""
      ],
      "execution_count": 34,
      "outputs": [
        {
          "output_type": "stream",
          "text": [
            "[2.97875113e-06 1.06858738e-06 5.50514245e-10 8.77301991e-01\n",
            " 1.03339888e-01 7.39112070e-12 4.13900061e-13 1.37050313e-06\n",
            " 6.58480509e-04 2.23462916e-06 1.26386783e-06 3.09802010e-04\n",
            " 2.57087631e-05 2.68042356e-07 2.21995478e-07 9.01453842e-11\n",
            " 1.11558606e-04 2.03956319e-07 5.04410082e-06 8.12822604e-04\n",
            " 1.65668577e-02 7.98854220e-04 8.97856793e-08 6.42583018e-08\n",
            " 7.60225394e-09 7.20620292e-08 1.58126499e-14 3.09451598e-09\n",
            " 7.78720278e-06 1.12728538e-09 2.81477987e-05 1.45554770e-12\n",
            " 5.66756944e-06 1.06825312e-10 7.34287198e-07 1.65876610e-08\n",
            " 1.64061948e-05 1.18388210e-09 3.00541956e-08 2.66594667e-12\n",
            " 4.68183970e-07 2.38799203e-10 1.91784685e-10 4.42682335e-10\n",
            " 2.07148968e-13 4.87707661e-12]\n"
          ],
          "name": "stdout"
        }
      ]
    },
    {
      "cell_type": "code",
      "metadata": {
        "id": "PqT4qeGs80T-",
        "colab_type": "code",
        "colab": {}
      },
      "source": [
        ""
      ],
      "execution_count": 0,
      "outputs": []
    }
  ]
}