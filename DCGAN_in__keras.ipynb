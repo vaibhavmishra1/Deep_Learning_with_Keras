{
  "nbformat": 4,
  "nbformat_minor": 0,
  "metadata": {
    "colab": {
      "name": "DCGAN_in _keras.ipynb",
      "version": "0.3.2",
      "provenance": [],
      "include_colab_link": true
    },
    "kernelspec": {
      "name": "python3",
      "display_name": "Python 3"
    },
    "accelerator": "GPU"
  },
  "cells": [
    {
      "cell_type": "markdown",
      "metadata": {
        "id": "view-in-github",
        "colab_type": "text"
      },
      "source": [
        "<a href=\"https://colab.research.google.com/github/vaibhavmishra1/Deep_Learning_with_Keras/blob/master/DCGAN_in__keras.ipynb\" target=\"_parent\"><img src=\"https://colab.research.google.com/assets/colab-badge.svg\" alt=\"Open In Colab\"/></a>"
      ]
    },
    {
      "cell_type": "code",
      "metadata": {
        "id": "CUb13DsaFY5I",
        "colab_type": "code",
        "colab": {
          "base_uri": "https://localhost:8080/",
          "height": 783
        },
        "outputId": "caf980e9-583c-415d-d2d3-e83d384fdae8"
      },
      "source": [
        "import keras\n",
        "from keras import layers\n",
        "import numpy as np\n",
        "latent_dim = 32\n",
        "height = 32\n",
        "width = 32\n",
        "channels = 3\n",
        "generator_input = keras.Input(shape=(latent_dim,))\n",
        "x = layers.Dense(128 * 16 * 16)(generator_input)\n",
        "x = layers.LeakyReLU()(x)\n",
        "x = layers.Reshape((16, 16, 128))(x)\n",
        "x = layers.Conv2D(256, 5, padding='same')(x)\n",
        "x = layers.LeakyReLU()(x)\n",
        "x = layers.Conv2DTranspose(256, 4, strides=2, padding='same')(x)\n",
        "x = layers.LeakyReLU()(x)\n",
        "x = layers.Conv2D(256, 5, padding='same')(x)\n",
        "x = layers.LeakyReLU()(x)\n",
        "x = layers.Conv2D(256, 5, padding='same')(x)\n",
        "x = layers.LeakyReLU()(x)\n",
        "x = layers.Conv2D(channels, 7, activation='tanh', padding='same')(x)\n",
        "generator = keras.models.Model(generator_input, x)\n",
        "generator.summary()"
      ],
      "execution_count": 1,
      "outputs": [
        {
          "output_type": "stream",
          "text": [
            "Using TensorFlow backend.\n",
            "WARNING: Logging before flag parsing goes to stderr.\n",
            "W0813 08:46:51.473556 139759532959616 deprecation_wrapper.py:119] From /usr/local/lib/python3.6/dist-packages/keras/backend/tensorflow_backend.py:74: The name tf.get_default_graph is deprecated. Please use tf.compat.v1.get_default_graph instead.\n",
            "\n",
            "W0813 08:46:51.515827 139759532959616 deprecation_wrapper.py:119] From /usr/local/lib/python3.6/dist-packages/keras/backend/tensorflow_backend.py:517: The name tf.placeholder is deprecated. Please use tf.compat.v1.placeholder instead.\n",
            "\n",
            "W0813 08:46:51.523826 139759532959616 deprecation_wrapper.py:119] From /usr/local/lib/python3.6/dist-packages/keras/backend/tensorflow_backend.py:4138: The name tf.random_uniform is deprecated. Please use tf.random.uniform instead.\n",
            "\n"
          ],
          "name": "stderr"
        },
        {
          "output_type": "stream",
          "text": [
            "_________________________________________________________________\n",
            "Layer (type)                 Output Shape              Param #   \n",
            "=================================================================\n",
            "input_1 (InputLayer)         (None, 32)                0         \n",
            "_________________________________________________________________\n",
            "dense_1 (Dense)              (None, 32768)             1081344   \n",
            "_________________________________________________________________\n",
            "leaky_re_lu_1 (LeakyReLU)    (None, 32768)             0         \n",
            "_________________________________________________________________\n",
            "reshape_1 (Reshape)          (None, 16, 16, 128)       0         \n",
            "_________________________________________________________________\n",
            "conv2d_1 (Conv2D)            (None, 16, 16, 256)       819456    \n",
            "_________________________________________________________________\n",
            "leaky_re_lu_2 (LeakyReLU)    (None, 16, 16, 256)       0         \n",
            "_________________________________________________________________\n",
            "conv2d_transpose_1 (Conv2DTr (None, 32, 32, 256)       1048832   \n",
            "_________________________________________________________________\n",
            "leaky_re_lu_3 (LeakyReLU)    (None, 32, 32, 256)       0         \n",
            "_________________________________________________________________\n",
            "conv2d_2 (Conv2D)            (None, 32, 32, 256)       1638656   \n",
            "_________________________________________________________________\n",
            "leaky_re_lu_4 (LeakyReLU)    (None, 32, 32, 256)       0         \n",
            "_________________________________________________________________\n",
            "conv2d_3 (Conv2D)            (None, 32, 32, 256)       1638656   \n",
            "_________________________________________________________________\n",
            "leaky_re_lu_5 (LeakyReLU)    (None, 32, 32, 256)       0         \n",
            "_________________________________________________________________\n",
            "conv2d_4 (Conv2D)            (None, 32, 32, 3)         37635     \n",
            "=================================================================\n",
            "Total params: 6,264,579\n",
            "Trainable params: 6,264,579\n",
            "Non-trainable params: 0\n",
            "_________________________________________________________________\n"
          ],
          "name": "stdout"
        }
      ]
    },
    {
      "cell_type": "code",
      "metadata": {
        "id": "o63La3p3Fifr",
        "colab_type": "code",
        "colab": {
          "base_uri": "https://localhost:8080/",
          "height": 819
        },
        "outputId": "4fc71e05-d5d1-43c9-cd79-b71752dad866"
      },
      "source": [
        "discriminator_input = layers.Input(shape=(height, width, channels))\n",
        "x = layers.Conv2D(128, 3)(discriminator_input)\n",
        "x = layers.LeakyReLU()(x)\n",
        "x = layers.Conv2D(128, 4, strides=2)(x)\n",
        "x = layers.LeakyReLU()(x)\n",
        "x = layers.Conv2D(128, 4, strides=2)(x)\n",
        "x = layers.LeakyReLU()(x)\n",
        "x = layers.Conv2D(128, 4, strides=2)(x)\n",
        "x = layers.LeakyReLU()(x)\n",
        "x = layers.Flatten()(x)\n",
        "x = layers.Dropout(0.4)(x)\n",
        "x = layers.Dense(1, activation='sigmoid')(x)\n",
        "discriminator = keras.models.Model(discriminator_input, x)\n",
        "discriminator.summary()\n",
        "discriminator_optimizer = keras.optimizers.RMSprop(\n",
        "lr=0.0008,\n",
        "clipvalue=1.0,\n",
        "decay=1e-8)\n",
        "discriminator.compile(optimizer=discriminator_optimizer,\n",
        "loss='binary_crossentropy')"
      ],
      "execution_count": 2,
      "outputs": [
        {
          "output_type": "stream",
          "text": [
            "W0813 08:46:53.753347 139759532959616 deprecation_wrapper.py:119] From /usr/local/lib/python3.6/dist-packages/keras/backend/tensorflow_backend.py:133: The name tf.placeholder_with_default is deprecated. Please use tf.compat.v1.placeholder_with_default instead.\n",
            "\n",
            "W0813 08:46:53.767394 139759532959616 deprecation.py:506] From /usr/local/lib/python3.6/dist-packages/keras/backend/tensorflow_backend.py:3445: calling dropout (from tensorflow.python.ops.nn_ops) with keep_prob is deprecated and will be removed in a future version.\n",
            "Instructions for updating:\n",
            "Please use `rate` instead of `keep_prob`. Rate should be set to `rate = 1 - keep_prob`.\n",
            "W0813 08:46:53.829383 139759532959616 deprecation_wrapper.py:119] From /usr/local/lib/python3.6/dist-packages/keras/optimizers.py:790: The name tf.train.Optimizer is deprecated. Please use tf.compat.v1.train.Optimizer instead.\n",
            "\n",
            "W0813 08:46:53.840934 139759532959616 deprecation_wrapper.py:119] From /usr/local/lib/python3.6/dist-packages/keras/backend/tensorflow_backend.py:3376: The name tf.log is deprecated. Please use tf.math.log instead.\n",
            "\n",
            "W0813 08:46:53.849834 139759532959616 deprecation.py:323] From /usr/local/lib/python3.6/dist-packages/tensorflow/python/ops/nn_impl.py:180: add_dispatch_support.<locals>.wrapper (from tensorflow.python.ops.array_ops) is deprecated and will be removed in a future version.\n",
            "Instructions for updating:\n",
            "Use tf.where in 2.0, which has the same broadcast rule as np.where\n"
          ],
          "name": "stderr"
        },
        {
          "output_type": "stream",
          "text": [
            "_________________________________________________________________\n",
            "Layer (type)                 Output Shape              Param #   \n",
            "=================================================================\n",
            "input_2 (InputLayer)         (None, 32, 32, 3)         0         \n",
            "_________________________________________________________________\n",
            "conv2d_5 (Conv2D)            (None, 30, 30, 128)       3584      \n",
            "_________________________________________________________________\n",
            "leaky_re_lu_6 (LeakyReLU)    (None, 30, 30, 128)       0         \n",
            "_________________________________________________________________\n",
            "conv2d_6 (Conv2D)            (None, 14, 14, 128)       262272    \n",
            "_________________________________________________________________\n",
            "leaky_re_lu_7 (LeakyReLU)    (None, 14, 14, 128)       0         \n",
            "_________________________________________________________________\n",
            "conv2d_7 (Conv2D)            (None, 6, 6, 128)         262272    \n",
            "_________________________________________________________________\n",
            "leaky_re_lu_8 (LeakyReLU)    (None, 6, 6, 128)         0         \n",
            "_________________________________________________________________\n",
            "conv2d_8 (Conv2D)            (None, 2, 2, 128)         262272    \n",
            "_________________________________________________________________\n",
            "leaky_re_lu_9 (LeakyReLU)    (None, 2, 2, 128)         0         \n",
            "_________________________________________________________________\n",
            "flatten_1 (Flatten)          (None, 512)               0         \n",
            "_________________________________________________________________\n",
            "dropout_1 (Dropout)          (None, 512)               0         \n",
            "_________________________________________________________________\n",
            "dense_2 (Dense)              (None, 1)                 513       \n",
            "=================================================================\n",
            "Total params: 790,913\n",
            "Trainable params: 790,913\n",
            "Non-trainable params: 0\n",
            "_________________________________________________________________\n"
          ],
          "name": "stdout"
        }
      ]
    },
    {
      "cell_type": "code",
      "metadata": {
        "id": "Y0t5hQcHFwB4",
        "colab_type": "code",
        "colab": {}
      },
      "source": [
        "discriminator.trainable = False\n",
        "gan_input = keras.Input(shape=(latent_dim,))\n",
        "gan_output = discriminator(generator(gan_input))\n",
        "gan = keras.models.Model(gan_input, gan_output)\n",
        "gan_optimizer = keras.optimizers.RMSprop(lr=0.0004, clipvalue=1.0, decay=1e-8)\n",
        "gan.compile(optimizer=gan_optimizer, loss='binary_crossentropy')"
      ],
      "execution_count": 0,
      "outputs": []
    },
    {
      "cell_type": "code",
      "metadata": {
        "id": "2P7ylk0PFzjw",
        "colab_type": "code",
        "colab": {
          "base_uri": "https://localhost:8080/",
          "height": 54
        },
        "outputId": "f8507fcf-8191-4c04-d5e2-2edef33d589c"
      },
      "source": [
        "import os\n",
        "from keras.preprocessing import image\n",
        "(x_train, y_train), (_, _) = keras.datasets.cifar10.load_data()\n",
        "x_train = x_train[y_train.flatten() == 6]\n",
        "x_train = x_train.reshape(\n",
        "(x_train.shape[0],) +\n",
        "(height, width, channels)).astype('float32') / 255.\n",
        "iterations = 10000\n",
        "batch_size = 20\n",
        "\n"
      ],
      "execution_count": 4,
      "outputs": [
        {
          "output_type": "stream",
          "text": [
            "Downloading data from https://www.cs.toronto.edu/~kriz/cifar-10-python.tar.gz\n",
            "170500096/170498071 [==============================] - 6s 0us/step\n"
          ],
          "name": "stdout"
        }
      ]
    },
    {
      "cell_type": "code",
      "metadata": {
        "id": "-eTvxTg9GHBp",
        "colab_type": "code",
        "colab": {}
      },
      "source": [
        "!mkdir saves\n",
        "save_dir = 'saves'"
      ],
      "execution_count": 0,
      "outputs": []
    },
    {
      "cell_type": "code",
      "metadata": {
        "id": "AuHLmGAwGSyO",
        "colab_type": "code",
        "colab": {
          "base_uri": "https://localhost:8080/",
          "height": 1000
        },
        "outputId": "63257524-cdc4-4eae-b161-2b6ef6f616f7"
      },
      "source": [
        "start = 0\n",
        "import matplotlib.pyplot as plt\n",
        "for step in range(iterations):\n",
        "  random_latent_vectors = np.random.normal(size=(batch_size,\n",
        "  latent_dim))\n",
        "  generated_images = generator.predict(random_latent_vectors)\n",
        "  stop = start + batch_size\n",
        "  real_images = x_train[start: stop]\n",
        "  combined_images = np.concatenate([generated_images, real_images])\n",
        "  labels = np.concatenate([np.ones((batch_size, 1)),\n",
        "  np.zeros((batch_size, 1))])\n",
        "  labels += 0.05 * np.random.random(labels.shape)\n",
        "  d_loss = discriminator.train_on_batch(combined_images, labels)\n",
        "  random_latent_vectors = np.random.normal(size=(batch_size,\n",
        "  latent_dim))\n",
        "  misleading_targets = np.zeros((batch_size, 1))\n",
        "  a_loss = gan.train_on_batch(random_latent_vectors,\n",
        "  misleading_targets)\n",
        "  start += batch_size\n",
        "  if start > len(x_train) - batch_size:\n",
        "    start = 0\n",
        "  if step % 100 == 0:\n",
        "    gan.save_weights('gan.h5')\n",
        "    print('discriminator loss:', d_loss)\n",
        "    print('adversarial loss:', a_loss)\n",
        "    img = image.array_to_img(generated_images[0] * 255., scale=False)\n",
        "    plt.imshow(img)\n",
        "    plt.savefig('generated_frog' + str(step) + '.png')\n",
        "    img = image.array_to_img(real_images[0] * 255., scale=False)\n",
        "    plt.imshow(img)\n",
        "    plt.savefig('real_frog' + str(step) + '.png')\n",
        "    "
      ],
      "execution_count": 6,
      "outputs": [
        {
          "output_type": "stream",
          "text": [
            "/usr/local/lib/python3.6/dist-packages/keras/engine/training.py:490: UserWarning: Discrepancy between trainable weights and collected trainable weights, did you set `model.trainable` without calling `model.compile` after ?\n",
            "  'Discrepancy between trainable weights and collected trainable'\n"
          ],
          "name": "stderr"
        },
        {
          "output_type": "stream",
          "text": [
            "discriminator loss: 0.6931291\n",
            "adversarial loss: 0.67113674\n"
          ],
          "name": "stdout"
        },
        {
          "output_type": "stream",
          "text": [
            "/usr/local/lib/python3.6/dist-packages/keras/engine/training.py:490: UserWarning: Discrepancy between trainable weights and collected trainable weights, did you set `model.trainable` without calling `model.compile` after ?\n",
            "  'Discrepancy between trainable weights and collected trainable'\n"
          ],
          "name": "stderr"
        },
        {
          "output_type": "stream",
          "text": [
            "discriminator loss: 0.69762486\n",
            "adversarial loss: 0.89682806\n",
            "discriminator loss: 0.69219345\n",
            "adversarial loss: 0.9495556\n",
            "discriminator loss: 0.70194983\n",
            "adversarial loss: 0.7373932\n",
            "discriminator loss: 0.694542\n",
            "adversarial loss: 0.73752964\n",
            "discriminator loss: 0.69554883\n",
            "adversarial loss: 0.76189804\n",
            "discriminator loss: 0.6838101\n",
            "adversarial loss: 0.79036295\n",
            "discriminator loss: 0.7078579\n",
            "adversarial loss: 0.72401327\n",
            "discriminator loss: 0.70348054\n",
            "adversarial loss: 0.725625\n",
            "discriminator loss: 0.8208586\n",
            "adversarial loss: 0.7690609\n",
            "discriminator loss: 0.7039604\n",
            "adversarial loss: 0.7485563\n",
            "discriminator loss: 0.6927434\n",
            "adversarial loss: 0.74921536\n",
            "discriminator loss: 0.69068146\n",
            "adversarial loss: 0.7721928\n",
            "discriminator loss: 0.6870719\n",
            "adversarial loss: 0.74825394\n",
            "discriminator loss: 0.69501865\n",
            "adversarial loss: 0.74291664\n",
            "discriminator loss: 0.6839528\n",
            "adversarial loss: 0.7384181\n",
            "discriminator loss: 0.8123123\n",
            "adversarial loss: 0.73834395\n",
            "discriminator loss: 0.68423647\n",
            "adversarial loss: 0.8090251\n",
            "discriminator loss: 0.9120377\n",
            "adversarial loss: 0.785666\n",
            "discriminator loss: 0.7533207\n",
            "adversarial loss: 0.7562755\n",
            "discriminator loss: 0.69455945\n",
            "adversarial loss: 0.73569345\n",
            "discriminator loss: 0.6747979\n",
            "adversarial loss: 0.68476564\n",
            "discriminator loss: 0.71604383\n",
            "adversarial loss: 0.77955\n",
            "discriminator loss: 0.70065975\n",
            "adversarial loss: 0.764606\n",
            "discriminator loss: 0.69807285\n",
            "adversarial loss: 0.7550599\n",
            "discriminator loss: 0.6950892\n",
            "adversarial loss: 0.7251487\n",
            "discriminator loss: 0.68836796\n",
            "adversarial loss: 0.7218946\n",
            "discriminator loss: 0.6880423\n",
            "adversarial loss: 0.802776\n",
            "discriminator loss: 0.7018361\n",
            "adversarial loss: 0.73747575\n",
            "discriminator loss: 0.69937456\n",
            "adversarial loss: 0.79395634\n",
            "discriminator loss: 0.6954602\n",
            "adversarial loss: 0.7736823\n",
            "discriminator loss: 0.700842\n",
            "adversarial loss: 0.7719852\n",
            "discriminator loss: 0.68517005\n",
            "adversarial loss: 0.74814904\n",
            "discriminator loss: 0.6851202\n",
            "adversarial loss: 0.725402\n",
            "discriminator loss: 0.6943387\n",
            "adversarial loss: 0.7474473\n",
            "discriminator loss: 0.69483966\n",
            "adversarial loss: 0.76233566\n",
            "discriminator loss: 0.69892013\n",
            "adversarial loss: 0.78304386\n",
            "discriminator loss: 0.70323676\n",
            "adversarial loss: 0.7644736\n",
            "discriminator loss: 0.6840361\n",
            "adversarial loss: 0.73706484\n",
            "discriminator loss: 0.6832348\n",
            "adversarial loss: 0.73276824\n",
            "discriminator loss: 0.69301903\n",
            "adversarial loss: 0.710584\n",
            "discriminator loss: 0.69697386\n",
            "adversarial loss: 0.752455\n",
            "discriminator loss: 0.69297284\n",
            "adversarial loss: 0.7513064\n",
            "discriminator loss: 0.7115649\n",
            "adversarial loss: 0.72431934\n",
            "discriminator loss: 0.69980395\n",
            "adversarial loss: 0.69169587\n",
            "discriminator loss: 0.6930324\n",
            "adversarial loss: 0.7575363\n",
            "discriminator loss: 0.6961525\n",
            "adversarial loss: 0.7762735\n",
            "discriminator loss: 0.68740577\n",
            "adversarial loss: 0.80140895\n",
            "discriminator loss: 0.70489895\n",
            "adversarial loss: 0.73216164\n",
            "discriminator loss: 0.6940847\n",
            "adversarial loss: 0.7258374\n",
            "discriminator loss: 0.67614734\n",
            "adversarial loss: 0.77419657\n",
            "discriminator loss: 0.92431915\n",
            "adversarial loss: 0.7723557\n",
            "discriminator loss: 0.68725514\n",
            "adversarial loss: 0.7642699\n",
            "discriminator loss: 0.7058401\n",
            "adversarial loss: 0.76371527\n",
            "discriminator loss: 0.6935649\n",
            "adversarial loss: 0.73687094\n",
            "discriminator loss: 0.7409011\n",
            "adversarial loss: 0.7552728\n",
            "discriminator loss: 0.7107855\n",
            "adversarial loss: 0.7433204\n",
            "discriminator loss: 0.7010026\n",
            "adversarial loss: 0.7744432\n",
            "discriminator loss: 0.6874715\n",
            "adversarial loss: 0.72681427\n",
            "discriminator loss: 0.69322747\n",
            "adversarial loss: 0.76279444\n",
            "discriminator loss: 0.69274366\n",
            "adversarial loss: 0.739516\n",
            "discriminator loss: 0.6875512\n",
            "adversarial loss: 0.74271995\n",
            "discriminator loss: 0.68967974\n",
            "adversarial loss: 0.7665916\n",
            "discriminator loss: 0.7114614\n",
            "adversarial loss: 0.7439853\n",
            "discriminator loss: 0.69748276\n",
            "adversarial loss: 0.6933404\n",
            "discriminator loss: 0.68846345\n",
            "adversarial loss: 0.7722009\n",
            "discriminator loss: 0.71173954\n",
            "adversarial loss: 0.7530363\n",
            "discriminator loss: 0.6846962\n",
            "adversarial loss: 0.7655254\n",
            "discriminator loss: 0.70970124\n",
            "adversarial loss: 0.79389066\n",
            "discriminator loss: 0.7044782\n",
            "adversarial loss: 0.7551139\n",
            "discriminator loss: 0.6886283\n",
            "adversarial loss: 0.71094847\n",
            "discriminator loss: 0.70049185\n",
            "adversarial loss: 0.7400723\n",
            "discriminator loss: 0.6989509\n",
            "adversarial loss: 1.0807765\n",
            "discriminator loss: 0.6932524\n",
            "adversarial loss: 0.74589425\n",
            "discriminator loss: 0.6817421\n",
            "adversarial loss: 0.8571026\n",
            "discriminator loss: 0.70278484\n",
            "adversarial loss: 0.740864\n",
            "discriminator loss: 0.6861763\n",
            "adversarial loss: 0.77576256\n",
            "discriminator loss: 0.70746547\n",
            "adversarial loss: 0.7478351\n",
            "discriminator loss: 0.6903302\n",
            "adversarial loss: 0.8239436\n",
            "discriminator loss: 0.69154483\n",
            "adversarial loss: 0.8104126\n",
            "discriminator loss: 0.6993908\n",
            "adversarial loss: 0.74981004\n",
            "discriminator loss: 0.6982316\n",
            "adversarial loss: 0.75595176\n",
            "discriminator loss: 0.7031431\n",
            "adversarial loss: 0.90245163\n",
            "discriminator loss: 0.724784\n",
            "adversarial loss: 0.77154577\n",
            "discriminator loss: 0.69621795\n",
            "adversarial loss: 0.7245544\n",
            "discriminator loss: 0.69690895\n",
            "adversarial loss: 0.703948\n",
            "discriminator loss: 0.67537326\n",
            "adversarial loss: 2.2576783\n",
            "discriminator loss: 0.69433296\n",
            "adversarial loss: 0.7175064\n",
            "discriminator loss: 0.6743437\n",
            "adversarial loss: 0.74325347\n",
            "discriminator loss: 0.6887924\n",
            "adversarial loss: 0.77649075\n",
            "discriminator loss: 0.68014914\n",
            "adversarial loss: 0.73788863\n",
            "discriminator loss: 0.70657474\n",
            "adversarial loss: 0.8748821\n",
            "discriminator loss: 0.67686284\n",
            "adversarial loss: 0.77314186\n",
            "discriminator loss: 0.69938517\n",
            "adversarial loss: 0.7852043\n",
            "discriminator loss: 0.6914875\n",
            "adversarial loss: 0.8365412\n",
            "discriminator loss: 0.69656765\n",
            "adversarial loss: 0.82389706\n",
            "discriminator loss: 0.6953686\n",
            "adversarial loss: 0.797751\n",
            "discriminator loss: 0.6868593\n",
            "adversarial loss: 0.8047075\n",
            "discriminator loss: 0.6852111\n",
            "adversarial loss: 0.8072672\n",
            "discriminator loss: 0.71635354\n",
            "adversarial loss: 0.86874694\n"
          ],
          "name": "stdout"
        },
        {
          "output_type": "display_data",
          "data": {
            "image/png": "[encoded data removed]",
            "text/plain": [
              "<Figure size 432x288 with 1 Axes>"
            ]
          },
          "metadata": {
            "tags": []
          }
        }
      ]
    },
    {
      "cell_type": "code",
      "metadata": {
        "id": "yGD9TWtLIqL6",
        "colab_type": "code",
        "colab": {}
      },
      "source": [
        ""
      ],
      "execution_count": 0,
      "outputs": []
    }
  ]
}