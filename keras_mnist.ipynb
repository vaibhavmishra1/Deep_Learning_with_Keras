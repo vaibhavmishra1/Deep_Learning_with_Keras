{
  "nbformat": 4,
  "nbformat_minor": 0,
  "metadata": {
    "colab": {
      "name": "Untitled5.ipynb",
      "version": "0.3.2",
      "provenance": [],
      "include_colab_link": true
    },
    "kernelspec": {
      "name": "python3",
      "display_name": "Python 3"
    }
  },
  "cells": [
    {
      "cell_type": "markdown",
      "metadata": {
        "id": "view-in-github",
        "colab_type": "text"
      },
      "source": [
        "<a href=\"https://colab.research.google.com/github/vaibhavmishra1/Deep_Learning_with_Keras/blob/master/keras_mnist.ipynb\" target=\"_parent\"><img src=\"https://colab.research.google.com/assets/colab-badge.svg\" alt=\"Open In Colab\"/></a>"
      ]
    },
    {
      "cell_type": "code",
      "metadata": {
        "id": "E0uRGEBT2TjC",
        "colab_type": "code",
        "colab": {
          "base_uri": "https://localhost:8080/",
          "height": 674
        },
        "outputId": "4a8a8913-fd6e-470b-c132-ed9cb3afc5e8"
      },
      "source": [
        "from keras.datasets import mnist\n",
        "(train_images,train_labels),(test_images,test_labels)=mnist.load_data()\n",
        "print(train_labels.shape)\n",
        "print(train_images.shape)\n",
        "print(test_images.shape)\n",
        "print(test_labels.shape)\n",
        "from keras import models\n",
        "from keras import layers\n",
        "network=models.Sequential()\n",
        "network.add(layers.Dense(512,activation='relu',input_shape=(28*28,)))\n",
        "network.add(layers.Dense(10,activation='softmax'))\n",
        "\n",
        "network.compile(optimizer='rmsprop',loss='categorical_crossentropy',metrics=['accuracy'])\n",
        "train_images=train_images.reshape((60000,28*28))\n",
        "train_images=train_images.astype('float32')/255\n",
        "test_images=test_images.reshape((10000,28*28))\n",
        "test_images=test_images.astype('float32')/255\n",
        "\n",
        "from keras.utils import to_categorical\n",
        "train_labels=to_categorical(train_labels)\n",
        "test_labels=to_categorical(test_labels)\n",
        "network.fit(train_images,train_labels,epochs=5,batch_size=128)\n",
        "test_loss,test_acc=network.evaluate(test_images,test_labels)\n",
        "print('test_acc=',test_acc)\n"
      ],
      "execution_count": 1,
      "outputs": [
        {
          "output_type": "stream",
          "text": [
            "Using TensorFlow backend.\n"
          ],
          "name": "stderr"
        },
        {
          "output_type": "stream",
          "text": [
            "Downloading data from https://s3.amazonaws.com/img-datasets/mnist.npz\n",
            "11493376/11490434 [==============================] - 0s 0us/step\n"
          ],
          "name": "stdout"
        },
        {
          "output_type": "stream",
          "text": [
            "WARNING: Logging before flag parsing goes to stderr.\n",
            "W0728 09:12:16.089437 140403994761088 deprecation_wrapper.py:119] From /usr/local/lib/python3.6/dist-packages/keras/backend/tensorflow_backend.py:74: The name tf.get_default_graph is deprecated. Please use tf.compat.v1.get_default_graph instead.\n",
            "\n",
            "W0728 09:12:16.105866 140403994761088 deprecation_wrapper.py:119] From /usr/local/lib/python3.6/dist-packages/keras/backend/tensorflow_backend.py:517: The name tf.placeholder is deprecated. Please use tf.compat.v1.placeholder instead.\n",
            "\n",
            "W0728 09:12:16.109462 140403994761088 deprecation_wrapper.py:119] From /usr/local/lib/python3.6/dist-packages/keras/backend/tensorflow_backend.py:4138: The name tf.random_uniform is deprecated. Please use tf.random.uniform instead.\n",
            "\n",
            "W0728 09:12:16.144364 140403994761088 deprecation_wrapper.py:119] From /usr/local/lib/python3.6/dist-packages/keras/optimizers.py:790: The name tf.train.Optimizer is deprecated. Please use tf.compat.v1.train.Optimizer instead.\n",
            "\n",
            "W0728 09:12:16.171612 140403994761088 deprecation_wrapper.py:119] From /usr/local/lib/python3.6/dist-packages/keras/backend/tensorflow_backend.py:3295: The name tf.log is deprecated. Please use tf.math.log instead.\n",
            "\n"
          ],
          "name": "stderr"
        },
        {
          "output_type": "stream",
          "text": [
            "(60000,)\n",
            "(60000, 28, 28)\n",
            "(10000, 28, 28)\n",
            "(10000,)\n"
          ],
          "name": "stdout"
        },
        {
          "output_type": "stream",
          "text": [
            "W0728 09:12:16.487836 140403994761088 deprecation.py:323] From /usr/local/lib/python3.6/dist-packages/tensorflow/python/ops/math_grad.py:1250: add_dispatch_support.<locals>.wrapper (from tensorflow.python.ops.array_ops) is deprecated and will be removed in a future version.\n",
            "Instructions for updating:\n",
            "Use tf.where in 2.0, which has the same broadcast rule as np.where\n",
            "W0728 09:12:16.559932 140403994761088 deprecation_wrapper.py:119] From /usr/local/lib/python3.6/dist-packages/keras/backend/tensorflow_backend.py:986: The name tf.assign_add is deprecated. Please use tf.compat.v1.assign_add instead.\n",
            "\n"
          ],
          "name": "stderr"
        },
        {
          "output_type": "stream",
          "text": [
            "Epoch 1/5\n",
            "60000/60000 [==============================] - 5s 88us/step - loss: 0.2585 - acc: 0.9252\n",
            "Epoch 2/5\n",
            "60000/60000 [==============================] - 5s 86us/step - loss: 0.1037 - acc: 0.9689\n",
            "Epoch 3/5\n",
            "60000/60000 [==============================] - 5s 86us/step - loss: 0.0684 - acc: 0.9794\n",
            "Epoch 4/5\n",
            "60000/60000 [==============================] - 5s 86us/step - loss: 0.0500 - acc: 0.9845\n",
            "Epoch 5/5\n",
            "60000/60000 [==============================] - 5s 86us/step - loss: 0.0371 - acc: 0.9888\n",
            "10000/10000 [==============================] - 1s 50us/step\n",
            "test_acc= 0.9804\n"
          ],
          "name": "stdout"
        }
      ]
    },
    {
      "cell_type": "code",
      "metadata": {
        "id": "7FGr6Irb2d-C",
        "colab_type": "code",
        "colab": {}
      },
      "source": [
        ""
      ],
      "execution_count": 0,
      "outputs": []
    }
  ]
}